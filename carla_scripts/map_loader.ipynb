{
 "cells": [
  {
   "cell_type": "code",
   "execution_count": 11,
   "id": "f34977cb-bf21-49b3-aab2-9677fa67b906",
   "metadata": {},
   "outputs": [
    {
     "name": "stderr",
     "output_type": "stream",
     "text": [
      "WARNING: Version mismatch detected: You are trying to connect to a simulator that might be incompatible with this API \n",
      "WARNING: Client API version     = 0.9.15 \n",
      "WARNING: Simulator API version  = 0.9.15.2-2-gb23c01ae4-dirty \n"
     ]
    }
   ],
   "source": [
    "# Initialzing\n",
    "import carla\n",
    "\n",
    "client = carla.Client('localhost', 2000)\n",
    "world = client.get_world()\n",
    "spawn_points = world.get_map().get_spawn_points()\n",
    "\n",
    "# Ego vehicle\n",
    "vehicle_bp = world.get_blueprint_library().filter('*vehicle.micro.microlino*')\n",
    "start_point = spawn_points[15]\n",
    "vehicle = world.try_spawn_actor(vehicle_bp[0], start_point)"
   ]
  },
  {
   "cell_type": "code",
   "execution_count": 6,
   "id": "321163ed-714f-434d-8390-4020116f06aa",
   "metadata": {},
   "outputs": [],
   "source": [
    "# Destroy all vehicles\n",
    "for actor in world.get_actors().filter('*vehicle*'):\n",
    "    actor.destroy()"
   ]
  },
  {
   "cell_type": "code",
   "execution_count": null,
   "id": "fbb20e65-6d6f-4140-8589-8245fdf3f3b8",
   "metadata": {},
   "outputs": [],
   "source": [
    "# Carla's Autopilot\n",
    "vehicle.set_autopilot(True)"
   ]
  },
  {
   "cell_type": "code",
   "execution_count": 3,
   "id": "b1ab8ca1-c9f0-4911-91c4-379b64d51172",
   "metadata": {},
   "outputs": [
    {
     "name": "stdout",
     "output_type": "stream",
     "text": [
      "Transform(Location(x=-31.681469, y=-2.830838, z=0.002656), Rotation(pitch=0.311873, yaw=154.159012, roll=0.034891))\n"
     ]
    }
   ],
   "source": [
    "# Vehicle's position on map\n",
    "vehicle_pos = vehicle.get_transform()\n",
    "print(vehicle_pos)"
   ]
  },
  {
   "cell_type": "code",
   "execution_count": 19,
   "id": "b408f9ee-c897-4a3a-8151-f802c57ffd4f",
   "metadata": {},
   "outputs": [
    {
     "name": "stdout",
     "output_type": "stream",
     "text": [
      "Map(name=Carla/Maps/k_city_0829/k_city) loaded successfully\n",
      "568 roads loaded successfully\n"
     ]
    }
   ],
   "source": [
    "# Get map & roads\n",
    "k_city = world.get_map()\n",
    "print(k_city, \"loaded successfully\")\n",
    "roads = k_city.get_topology()\n",
    "print(len(roads), \"roads loaded successfully\")"
   ]
  },
  {
   "cell_type": "code",
   "execution_count": 4,
   "id": "cfaec5e1-3d8b-4c83-bc95-a2604dc822fd",
   "metadata": {},
   "outputs": [
    {
     "name": "stderr",
     "output_type": "stream",
     "text": [
      "WARNING: Version mismatch detected: You are trying to connect to a simulator that might be incompatible with this API \n",
      "WARNING: Client API version     = 0.9.15 \n",
      "WARNING: Simulator API version  = 0.9.15.2-2-gb23c01ae4-dirty \n"
     ]
    }
   ],
   "source": [
    "# Initialzing\n",
    "import carla\n",
    "\n",
    "client = carla.Client('localhost', 2000)\n",
    "world = client.get_world()\n",
    "\n",
    "for actor in world.get_actors().filter('*vehicle*'):\n",
    "    vehicle_pos=actor.get_transform()\n",
    "    print(vehicle_pos)"
   ]
  },
  {
   "cell_type": "code",
   "execution_count": 5,
   "id": "c43a1970-91a9-42a9-bcb7-b81952bc0df3",
   "metadata": {},
   "outputs": [
    {
     "name": "stdout",
     "output_type": "stream",
     "text": [
      "Transform(Location(x=-10.427059, y=13.811935, z=0.154815), Rotation(pitch=0.288794, yaw=62.185612, roll=0.177335))\n"
     ]
    }
   ],
   "source": [
    "for actor in world.get_actors().filter('*vehicle*'):\n",
    "    vehicle_pos=actor.get_transform()\n",
    "    print(vehicle_pos)\n"
   ]
  },
  {
   "cell_type": "code",
   "execution_count": null,
   "id": "f0ae7da6-6117-4266-ad3b-cc607f512b65",
   "metadata": {},
   "outputs": [],
   "source": []
  }
 ],
 "metadata": {
  "kernelspec": {
   "display_name": "Python 3 (ipykernel)",
   "language": "python",
   "name": "python3"
  },
  "language_info": {
   "codemirror_mode": {
    "name": "ipython",
    "version": 3
   },
   "file_extension": ".py",
   "mimetype": "text/x-python",
   "name": "python",
   "nbconvert_exporter": "python",
   "pygments_lexer": "ipython3",
   "version": "3.10.12"
  }
 },
 "nbformat": 4,
 "nbformat_minor": 5
}
